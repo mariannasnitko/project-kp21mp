{
  "nbformat": 4,
  "nbformat_minor": 0,
  "metadata": {
    "kernelspec": {
      "display_name": "Python 3",
      "language": "python",
      "name": "python3"
    },
    "language_info": {
      "codemirror_mode": {
        "name": "ipython",
        "version": 3
      },
      "file_extension": ".py",
      "mimetype": "text/x-python",
      "name": "python",
      "nbconvert_exporter": "python",
      "pygments_lexer": "ipython3",
      "version": "3.7.0"
    },
    "colab": {
      "provenance": []
    }
  },
  "cells": [
    {
      "cell_type": "markdown",
      "metadata": {
        "id": "hAztplT8Lx7L"
      },
      "source": [
        "## Record Audio"
      ]
    },
    {
      "cell_type": "code",
      "metadata": {
        "id": "lUbR_U3RLx7N"
      },
      "source": [
        "import wave\n",
        "import keras\n",
        "import pyaudio\n",
        "import pandas as pd\n",
        "import numpy as np\n",
        "\n",
        "import IPython.display as ipd"
      ],
      "execution_count": null,
      "outputs": []
    },
    {
      "cell_type": "code",
      "metadata": {
        "id": "ka2NxIFcLx7b"
      },
      "source": [
        "CHUNK = 1024 \n",
        "FORMAT = pyaudio.paInt16 #paInt8\n",
        "CHANNELS = 2 \n",
        "RATE = 44100 #sample rate\n",
        "RECORD_SECONDS = 4\n",
        "WAVE_OUTPUT_FILENAME = \"demo_audio.wav\"\n",
        "emotions=[\"Anger\",\"disgust\",\"fear\",\"happy\",\"Neutral\", \"sad\", \"surprise\"]\n",
        "\n",
        "p = pyaudio.PyAudio()\n",
        "\n",
        "stream = p.open(format=FORMAT,\n",
        "                channels=CHANNELS,\n",
        "                rate=RATE,\n",
        "                input=True,\n",
        "                frames_per_buffer=CHUNK) #buffer\n",
        "\n",
        "print(\"* recording\")\n",
        "\n",
        "frames = []\n",
        "\n",
        "for i in range(0, int(RATE / CHUNK * RECORD_SECONDS)):\n",
        "    data = stream.read(CHUNK)\n",
        "    frames.append(data) # 2 bytes(16 bits) per channel\n",
        "\n",
        "print(\"* done recording\")\n",
        "\n",
        "stream.stop_stream()\n",
        "stream.close()\n",
        "p.terminate()\n",
        "\n",
        "wf = wave.open(WAVE_OUTPUT_FILENAME, 'wb')\n",
        "wf.setnchannels(CHANNELS)\n",
        "wf.setsampwidth(p.get_sample_size(FORMAT))\n",
        "wf.setframerate(RATE)\n",
        "wf.writeframes(b''.join(frames))\n",
        "wf.close()"
      ],
      "execution_count": null,
      "outputs": []
    },
    {
      "cell_type": "markdown",
      "metadata": {
        "id": "IM_d8PVXLx7i"
      },
      "source": [
        "## Load The SER Model"
      ]
    },
    {
      "cell_type": "code",
      "metadata": {
        "scrolled": true,
        "id": "KViaCiV6Lx7k"
      },
      "source": [
        "# loading json and creating model\n",
        "from keras.models import model_from_json\n",
        "json_file = open('./utils/model.json', 'r')\n",
        "loaded_model_json = json_file.read()\n",
        "json_file.close()\n",
        "loaded_model = model_from_json(loaded_model_json)\n",
        "# load weights into new model\n",
        "loaded_model.load_weights(\"./Trained_Models/Speech_Emotion_Recognition_Model.h5\")\n",
        "print(\"Loaded model from disk\")"
      ],
      "execution_count": null,
      "outputs": []
    },
    {
      "cell_type": "code",
      "metadata": {
        "id": "asi8KCxRLx7r"
      },
      "source": [
        "demo_audio_path = '.demo_audio.wav'\n",
        "ipd.Audio(demo_audio_path)"
      ],
      "execution_count": null,
      "outputs": []
    },
    {
      "cell_type": "code",
      "metadata": {
        "id": "Df8BPEO9Lx7z"
      },
      "source": [
        "from utils.feature_extraction import get_audio_features\n",
        "demo_mfcc, demo_pitch, demo_mag, demo_chrom = get_audio_features(demo_audio_path,20000)"
      ],
      "execution_count": null,
      "outputs": []
    },
    {
      "cell_type": "code",
      "metadata": {
        "id": "0l8q7SCrLx75"
      },
      "source": [
        "mfcc = pd.Series(demo_mfcc)\n",
        "pit = pd.Series(demo_pitch)\n",
        "mag = pd.Series(demo_mag)\n",
        "C = pd.Series(demo_chrom)\n",
        "demo_audio_features = pd.concat([mfcc,pit,mag,C],ignore_index=True)"
      ],
      "execution_count": null,
      "outputs": []
    },
    {
      "cell_type": "code",
      "metadata": {
        "id": "MKt5bb_ELx7-"
      },
      "source": [
        "demo_audio_features= np.expand_dims(demo_audio_features, axis=0)\n",
        "demo_audio_features= np.expand_dims(demo_audio_features, axis=2)"
      ],
      "execution_count": null,
      "outputs": []
    },
    {
      "cell_type": "code",
      "metadata": {
        "id": "6zmojc3PLx8D"
      },
      "source": [
        "demo_audio_features.shape"
      ],
      "execution_count": null,
      "outputs": []
    },
    {
      "cell_type": "code",
      "metadata": {
        "id": "nFsrTBzALx8J"
      },
      "source": [
        "livepreds = loaded_model.predict(demo_audio_features, \n",
        "                         batch_size=32, \n",
        "                         verbose=1)"
      ],
      "execution_count": null,
      "outputs": []
    },
    {
      "cell_type": "code",
      "metadata": {
        "id": "7cw2n9CsLx8O"
      },
      "source": [
        "livepreds"
      ],
      "execution_count": null,
      "outputs": []
    },
    {
      "cell_type": "code",
      "metadata": {
        "id": "FBiWwDjRLx8S"
      },
      "source": [
        "#emotions=[\"anger\",\"disgust\",\"fear\",\"happy\",\"neutral\", \"sad\", \"surprise\"]\n",
        "index = livepreds.argmax(axis=1).item()\n",
        "index"
      ],
      "execution_count": null,
      "outputs": []
    },
    {
      "cell_type": "code",
      "metadata": {
        "id": "WsjKhyjLLx8X"
      },
      "source": [
        "emotions[index]"
      ],
      "execution_count": null,
      "outputs": []
    }
  ]
}